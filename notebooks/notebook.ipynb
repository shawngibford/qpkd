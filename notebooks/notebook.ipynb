{
 "cells": [
  {
   "cell_type": "code",
   "execution_count": 1,
   "metadata": {},
   "outputs": [
    {
     "name": "stdout",
     "output_type": "stream",
     "text": [
      "Requirement already satisfied: jupytext in /Users/shawngibford/dev/qpkd/qpkd_env/lib/python3.11/site-packages (1.17.3)\n",
      "Requirement already satisfied: markdown-it-py>=1.0 in /Users/shawngibford/dev/qpkd/qpkd_env/lib/python3.11/site-packages (from jupytext) (4.0.0)\n",
      "Requirement already satisfied: mdit-py-plugins in /Users/shawngibford/dev/qpkd/qpkd_env/lib/python3.11/site-packages (from jupytext) (0.5.0)\n",
      "Requirement already satisfied: nbformat in /Users/shawngibford/dev/qpkd/qpkd_env/lib/python3.11/site-packages (from jupytext) (5.10.4)\n",
      "Requirement already satisfied: packaging in /Users/shawngibford/dev/qpkd/qpkd_env/lib/python3.11/site-packages (from jupytext) (25.0)\n",
      "Requirement already satisfied: pyyaml in /Users/shawngibford/dev/qpkd/qpkd_env/lib/python3.11/site-packages (from jupytext) (6.0.2)\n",
      "Requirement already satisfied: mdurl~=0.1 in /Users/shawngibford/dev/qpkd/qpkd_env/lib/python3.11/site-packages (from markdown-it-py>=1.0->jupytext) (0.1.2)\n",
      "Requirement already satisfied: fastjsonschema>=2.15 in /Users/shawngibford/dev/qpkd/qpkd_env/lib/python3.11/site-packages (from nbformat->jupytext) (2.21.2)\n",
      "Requirement already satisfied: jsonschema>=2.6 in /Users/shawngibford/dev/qpkd/qpkd_env/lib/python3.11/site-packages (from nbformat->jupytext) (4.25.1)\n",
      "Requirement already satisfied: jupyter-core!=5.0.*,>=4.12 in /Users/shawngibford/dev/qpkd/qpkd_env/lib/python3.11/site-packages (from nbformat->jupytext) (5.8.1)\n",
      "Requirement already satisfied: traitlets>=5.1 in /Users/shawngibford/dev/qpkd/qpkd_env/lib/python3.11/site-packages (from nbformat->jupytext) (5.14.3)\n",
      "Requirement already satisfied: attrs>=22.2.0 in /Users/shawngibford/dev/qpkd/qpkd_env/lib/python3.11/site-packages (from jsonschema>=2.6->nbformat->jupytext) (25.3.0)\n",
      "Requirement already satisfied: jsonschema-specifications>=2023.03.6 in /Users/shawngibford/dev/qpkd/qpkd_env/lib/python3.11/site-packages (from jsonschema>=2.6->nbformat->jupytext) (2025.4.1)\n",
      "Requirement already satisfied: referencing>=0.28.4 in /Users/shawngibford/dev/qpkd/qpkd_env/lib/python3.11/site-packages (from jsonschema>=2.6->nbformat->jupytext) (0.36.2)\n",
      "Requirement already satisfied: rpds-py>=0.7.1 in /Users/shawngibford/dev/qpkd/qpkd_env/lib/python3.11/site-packages (from jsonschema>=2.6->nbformat->jupytext) (0.27.1)\n",
      "Requirement already satisfied: platformdirs>=2.5 in /Users/shawngibford/dev/qpkd/qpkd_env/lib/python3.11/site-packages (from jupyter-core!=5.0.*,>=4.12->nbformat->jupytext) (4.4.0)\n",
      "Requirement already satisfied: typing-extensions>=4.4.0 in /Users/shawngibford/dev/qpkd/qpkd_env/lib/python3.11/site-packages (from referencing>=0.28.4->jsonschema>=2.6->nbformat->jupytext) (4.15.0)\n",
      "\n",
      "\u001b[1m[\u001b[0m\u001b[34;49mnotice\u001b[0m\u001b[1;39;49m]\u001b[0m\u001b[39;49m A new release of pip is available: \u001b[0m\u001b[31;49m23.3.1\u001b[0m\u001b[39;49m -> \u001b[0m\u001b[32;49m25.2\u001b[0m\n",
      "\u001b[1m[\u001b[0m\u001b[34;49mnotice\u001b[0m\u001b[1;39;49m]\u001b[0m\u001b[39;49m To update, run: \u001b[0m\u001b[32;49mpip install --upgrade pip\u001b[0m\n",
      "Note: you may need to restart the kernel to use updated packages.\n",
      "[jupytext] Reading approach1_vqc_demo.py in format py\n",
      "[jupytext] Writing approach1_vqc_demo.ipynb\n"
     ]
    }
   ],
   "source": [
    "%pip install jupytext\n",
    "!jupytext --to notebook approach1_vqc_demo.py\n"
   ]
  },
  {
   "cell_type": "code",
   "execution_count": null,
   "metadata": {},
   "outputs": [],
   "source": []
  }
 ],
 "metadata": {
  "kernelspec": {
   "display_name": "QPKD Environment",
   "language": "python",
   "name": "qpkd_env"
  },
  "language_info": {
   "codemirror_mode": {
    "name": "ipython",
    "version": 3
   },
   "file_extension": ".py",
   "mimetype": "text/x-python",
   "name": "python",
   "nbconvert_exporter": "python",
   "pygments_lexer": "ipython3",
   "version": "3.11.7"
  }
 },
 "nbformat": 4,
 "nbformat_minor": 2
}
